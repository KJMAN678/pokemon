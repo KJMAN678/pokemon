{
 "cells": [
  {
   "cell_type": "code",
   "execution_count": null,
   "metadata": {},
   "outputs": [],
   "source": [
    "import asyncio\n",
    "import nest_asyncio\n",
    "\n",
    "from poke_env.player.random_player import RandomPlayer\n",
    "from poke_env.player.utils import cross_evaluate\n",
    "from tabulate import tabulate\n",
    "\n",
    "nest_asyncio.apply()\n",
    "\n",
    "async def main():\n",
    "    # ランダム行動をするPlayerオブジェクトを3個作成します\n",
    "    players = [RandomPlayer(max_concurrent_battles=10) for _ in range(3)]\n",
    "\n",
    "    # 相互に対戦させ評価を行います。Player同士の一つの組合わせごとに、20回の対戦を行います。\n",
    "    cross_evaluation = await cross_evaluate(players, n_challenges=20)\n",
    "\n",
    "    # 表示用のヘッダー行を作成します\n",
    "    table = [[\"-\"] + [p.username for p in players]]\n",
    "\n",
    "    # 対戦結果を抽出して、それぞれのPlayerごとに1行ずつtableオブジェクトに追加していきます\n",
    "    for p_1, results in cross_evaluation.items():\n",
    "        table.append([p_1] + [cross_evaluation[p_1][p_2] for p_2 in results])\n",
    "\n",
    "    # 見やすい表形式で結果を表示します\n",
    "    print(tabulate(table))\n",
    "\n",
    "if __name__ == \"__main__\":\n",
    "    asyncio.get_event_loop().run_until_complete(main())"
   ]
  },
  {
   "cell_type": "code",
   "execution_count": null,
   "metadata": {},
   "outputs": [],
   "source": []
  }
 ],
 "metadata": {
  "language_info": {
   "name": "python"
  }
 },
 "nbformat": 4,
 "nbformat_minor": 2
}
